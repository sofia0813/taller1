{
  "nbformat": 4,
  "nbformat_minor": 0,
  "metadata": {
    "colab": {
      "provenance": [],
      "authorship_tag": "ABX9TyPfqnt7+cBSY/Yp7UQPJYpv",
      "include_colab_link": true
    },
    "kernelspec": {
      "name": "python3",
      "display_name": "Python 3"
    },
    "language_info": {
      "name": "python"
    }
  },
  "cells": [
    {
      "cell_type": "markdown",
      "metadata": {
        "id": "view-in-github",
        "colab_type": "text"
      },
      "source": [
        "<a href=\"https://colab.research.google.com/github/sofia0813/talleres-python-2023/blob/main/Taller_12.ipynb\" target=\"_parent\"><img src=\"https://colab.research.google.com/assets/colab-badge.svg\" alt=\"Open In Colab\"/></a>"
      ]
    },
    {
      "cell_type": "code",
      "execution_count": 1,
      "metadata": {
        "colab": {
          "base_uri": "https://localhost:8080/"
        },
        "id": "PqNot5MXEAWQ",
        "outputId": "7c1f9361-2deb-4c68-9d8a-ea7588c0858d"
      },
      "outputs": [
        {
          "output_type": "stream",
          "name": "stdout",
          "text": [
            "Elementos no eliminados: [2, 3, 4]\n",
            "Elementos eliminados: [1, 5]\n"
          ]
        }
      ],
      "source": [
        "numeros = [1, 2, 3, 4, 5]\n",
        "\n",
        "# Eliminar el primer y último elemento\n",
        "elemento_inicio = numeros.pop(0)\n",
        "elemento_final = numeros.pop(-1)\n",
        "\n",
        "# Se crean dos listas separadas\n",
        "elementos_no_eliminados = numeros\n",
        "elementos_eliminados = [elemento_inicio, elemento_final]\n",
        "\n",
        "# Mostrar las dos listas\n",
        "print(\"Elementos no eliminados:\", elementos_no_eliminados)\n",
        "print(\"Elementos eliminados:\", elementos_eliminados)\n"
      ]
    }
  ]
}