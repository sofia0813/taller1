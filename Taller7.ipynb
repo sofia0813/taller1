cadena_inicial = input("Ingrese una cadena de caracteres: ")

cadena_modificada_o_invertida = ""

# Usar un bucle for para invertir la cadena

for caracter in cadena_inicial:

    cadena_modificada_o_invertida = caracter + cadena_modificada_o_invertida
    
print("Cadena modificada_o_invertida:", cadena_modificada_o_invertida)
