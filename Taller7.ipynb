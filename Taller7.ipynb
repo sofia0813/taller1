{
  "nbformat": 4,
  "nbformat_minor": 0,
  "metadata": {
    "colab": {
      "provenance": []
    },
    "kernelspec": {
      "name": "python3",
      "display_name": "Python 3"
    },
    "language_info": {
      "name": "python"
    }
  },
  "cells": [
    {
      "cell_type": "code",
      "execution_count": 1,
      "metadata": {
        "colab": {
          "base_uri": "https://localhost:8080/"
        },
        "id": "T0M1T0elqBld",
        "outputId": "b248599f-97f5-4a41-fa06-9149bb06a8ee"
      },
      "outputs": [
        {
          "output_type": "stream",
          "name": "stdout",
          "text": [
            "Ingrese una cadena de caracteres: juan\n",
            "Cadena modificada_o_invertida: nauj\n"
          ]
        }
      ],
      "source": [
        "cadena_inicial = input(\"Ingrese una cadena de caracteres: \")\n",
        "\n",
        "cadena_modificada_o_invertida = \"\"\n",
        "\n",
        "# Usar un bucle for para invertir la cadena\n",
        "\n",
        "for caracter in cadena_inicial:\n",
        "\n",
        "    cadena_modificada_o_invertida = caracter + cadena_modificada_o_invertida\n",
        "\n",
        "print(\"Cadena modificada_o_invertida:\", cadena_modificada_o_invertida)"
      ]
    }
  ]
}