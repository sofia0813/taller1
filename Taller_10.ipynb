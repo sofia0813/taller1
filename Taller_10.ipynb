{
  "nbformat": 4,
  "nbformat_minor": 0,
  "metadata": {
    "colab": {
      "provenance": [],
      "authorship_tag": "ABX9TyPOYymiG31A2UKqZZseaDYP",
      "include_colab_link": true
    },
    "kernelspec": {
      "name": "python3",
      "display_name": "Python 3"
    },
    "language_info": {
      "name": "python"
    }
  },
  "cells": [
    {
      "cell_type": "markdown",
      "metadata": {
        "id": "view-in-github",
        "colab_type": "text"
      },
      "source": [
        "<a href=\"https://colab.research.google.com/github/sofia0813/talleres-python-2023/blob/main/Taller_10.ipynb\" target=\"_parent\"><img src=\"https://colab.research.google.com/assets/colab-badge.svg\" alt=\"Open In Colab\"/></a>"
      ]
    },
    {
      "cell_type": "code",
      "execution_count": 1,
      "metadata": {
        "colab": {
          "base_uri": "https://localhost:8080/"
        },
        "id": "7jYJRkYHC6ZH",
        "outputId": "fad078fa-f415-4a78-de7a-761718752e39"
      },
      "outputs": [
        {
          "output_type": "stream",
          "name": "stdout",
          "text": [
            "Ingrese la longitud de la lista: 5\n",
            "Ingrese un número entero: 7\n",
            "Ingrese un número entero: 8\n",
            "Ingrese un número entero: 4\n",
            "Ingrese un número entero: 6\n",
            "Ingrese un número entero: 3\n",
            "La lista ingresada es: [7, 8, 4, 6, 3]\n",
            "La suma de los elementos en la lista es: 28\n"
          ]
        }
      ],
      "source": [
        "# Solicita la longitud de la lista\n",
        "longitud = int(input(\"Ingrese la longitud de la lista: \"))\n",
        "\n",
        "# Inicializa una lista vacía para almacenar\n",
        "lista = []\n",
        "\n",
        "# Solicita los elementos de la lista y los agrega a la lista\n",
        "for i in range(longitud):\n",
        "    elemento = int(input(\"Ingrese un número entero: \"))\n",
        "    lista.append(elemento)\n",
        "\n",
        "# Muestra la lista\n",
        "print(\"La lista ingresada es:\", lista)\n",
        "\n",
        "#suma e imprime\n",
        "print(\"La suma de los elementos en la lista es:\", sum(lista))\n"
      ]
    }
  ]
}