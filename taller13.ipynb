{
  "nbformat": 4,
  "nbformat_minor": 0,
  "metadata": {
    "colab": {
      "provenance": [],
      "authorship_tag": "ABX9TyNaTdShcsvMC48BEJf02s6P",
      "include_colab_link": true
    },
    "kernelspec": {
      "name": "python3",
      "display_name": "Python 3"
    },
    "language_info": {
      "name": "python"
    }
  },
  "cells": [
    {
      "cell_type": "markdown",
      "metadata": {
        "id": "view-in-github",
        "colab_type": "text"
      },
      "source": [
        "<a href=\"https://colab.research.google.com/github/sofia0813/talleres-python-2023/blob/main/taller13.ipynb\" target=\"_parent\"><img src=\"https://colab.research.google.com/assets/colab-badge.svg\" alt=\"Open In Colab\"/></a>"
      ]
    },
    {
      "cell_type": "code",
      "execution_count": 7,
      "metadata": {
        "colab": {
          "base_uri": "https://localhost:8080/"
        },
        "id": "aIhWAQ3e8iCS",
        "outputId": "fad6fad4-0705-4281-dbdf-b75876b17bbd"
      },
      "outputs": [
        {
          "output_type": "stream",
          "name": "stdout",
          "text": [
            "Ingrese el número de filas para la matriz: 2\n",
            "Ingrese el número de columnas para la matriz: 2\n",
            "Ingrese el valor de la fila 1, columna 1: 4\n",
            "Ingrese el valor de la fila 1, columna 2: 7\n",
            "Ingrese el valor de la fila 2, columna 1: 8\n",
            "Ingrese el valor de la fila 2, columna 2: 5\n",
            "\\Matriz resultado: \n",
            "\n",
            "[4, 7]\n",
            "[8, 5]\n"
          ]
        }
      ],
      "source": [
        "filas = int(input(\"Ingrese el número de filas para la matriz: \"))\n",
        "columnas = int(input(\"Ingrese el número de columnas para la matriz: \"))\n",
        "matriz = []\n",
        "for i in range (filas):\n",
        " matriz. append ([])\n",
        " for j in range (columnas):\n",
        "  valor = int(input(f\"Ingrese el valor de la fila {i+1}, columna {j+1}: \"))\n",
        "  matriz[i].append (valor)\n",
        "print (\"\\Matriz resultado: \\n\")\n",
        "for fila in matriz: print(fila)"
      ]
    }
  ]
}