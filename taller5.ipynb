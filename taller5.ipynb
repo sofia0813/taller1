# Inicializar los dos primeros números 
a, b = 0, 1

# Imprimir los números de Fibonacci hasta llegar al numero que se nos pidio 
while a <= 1597:
    print(a, end=' ')
    a, b = b, a + b
