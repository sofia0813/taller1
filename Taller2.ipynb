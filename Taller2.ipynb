# Solicitar al usuario un número entero
numero = int(input("Introduce un número entero: "))

# Determinar si el número es par o impar
if numero % 2 == 0:
    mensaje = f"El número {numero} es par"
else:
    mensaje = f"El número {numero} es impar"

# Mostrar el resultado
print(mensaje)
