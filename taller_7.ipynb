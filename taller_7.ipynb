{
  "nbformat": 4,
  "nbformat_minor": 0,
  "metadata": {
    "colab": {
      "provenance": [],
      "authorship_tag": "ABX9TyO/xvBROvWcmEfx+ZUY/ueW",
      "include_colab_link": true
    },
    "kernelspec": {
      "name": "python3",
      "display_name": "Python 3"
    },
    "language_info": {
      "name": "python"
    }
  },
  "cells": [
    {
      "cell_type": "markdown",
      "metadata": {
        "id": "view-in-github",
        "colab_type": "text"
      },
      "source": [
        "<a href=\"https://colab.research.google.com/github/sofia0813/talleres-python-2023/blob/main/taller_7.ipynb\" target=\"_parent\"><img src=\"https://colab.research.google.com/assets/colab-badge.svg\" alt=\"Open In Colab\"/></a>"
      ]
    },
    {
      "cell_type": "code",
      "execution_count": 1,
      "metadata": {
        "colab": {
          "base_uri": "https://localhost:8080/"
        },
        "id": "TTKZckz3sqJk",
        "outputId": "336f8de3-749f-4376-dece-8fd3e0820662"
      },
      "outputs": [
        {
          "output_type": "stream",
          "name": "stdout",
          "text": [
            "Ingrese una cadena de caracteres: hola\n",
            "Cadena modificada_o_invertida: aloh\n"
          ]
        }
      ],
      "source": [
        "cadena_inicial = input(\"Ingrese una cadena de caracteres: \")\n",
        "\n",
        "cadena_modificada_o_invertida = \"\"\n",
        "\n",
        "# Usar un bucle for para invertir la cadena\n",
        "\n",
        "for caracter in cadena_inicial:\n",
        "\n",
        "    cadena_modificada_o_invertida = caracter + cadena_modificada_o_invertida\n",
        "\n",
        "print(\"Cadena modificada_o_invertida:\", cadena_modificada_o_invertida)"
      ]
    }
  ]
}