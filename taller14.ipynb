{
  "nbformat": 4,
  "nbformat_minor": 0,
  "metadata": {
    "colab": {
      "provenance": [],
      "authorship_tag": "ABX9TyN/GnpKwr432Y/8l3tNp8rB",
      "include_colab_link": true
    },
    "kernelspec": {
      "name": "python3",
      "display_name": "Python 3"
    },
    "language_info": {
      "name": "python"
    }
  },
  "cells": [
    {
      "cell_type": "markdown",
      "metadata": {
        "id": "view-in-github",
        "colab_type": "text"
      },
      "source": [
        "<a href=\"https://colab.research.google.com/github/sofia0813/talleres-python-2023/blob/main/taller14.ipynb\" target=\"_parent\"><img src=\"https://colab.research.google.com/assets/colab-badge.svg\" alt=\"Open In Colab\"/></a>"
      ]
    },
    {
      "cell_type": "code",
      "source": [
        "num_matrices = int(input(\"¿Cuantas matrices quieres sumar?: \"))\n",
        "\n",
        "if num_matrices > 1:\n",
        "\n",
        "    filas = int(input(\"¿Cuantas filas tendrán las matrices?: \"))\n",
        "    columnas = int(input(\"¿Cuantas columnas tendrán las matrices?: \"))\n",
        "\n",
        "    lista_matrices = []\n",
        "\n",
        "    # Llenado de matrices\n",
        "    for numero in range(num_matrices):\n",
        "        matriz = []\n",
        "        for fila in range(filas):\n",
        "            nueva_fila = []\n",
        "            for columna in range(columnas):\n",
        "                nueva_fila.append(\n",
        "                    int(input(f\"Introduce un elemento para la matriz {numero + 1} fila {fila}, columna {columna}: \")))\n",
        "            matriz.append(nueva_fila)\n",
        "        lista_matrices.append(matriz)\n",
        "\n",
        "    # Suma de las matrices\n",
        "    matriz = []\n",
        "    for fila in range(filas):\n",
        "        nueva_fila = []\n",
        "        for columna in range(columnas):\n",
        "            sum_matriz = 0\n",
        "            for posicion_matriz in range(len(lista_matrices)):\n",
        "                sum_matriz += lista_matrices[posicion_matriz][fila][columna]\n",
        "            nueva_fila.append(sum_matriz)\n",
        "        matriz.append(nueva_fila)\n",
        "    lista_matrices.append(matriz)\n",
        "\n",
        "    # Imprimir matrices\n",
        "    for fila_matriz in range(filas):\n",
        "        for posicion_matriz in range(len(lista_matrices)):\n",
        "            if fila_matriz != 1:\n",
        "                print(f\"{lista_matrices[posicion_matriz][fila_matriz]}\", end=\"   \")\n",
        "            else:\n",
        "                if posicion_matriz < len(lista_matrices) - 2:\n",
        "                    print(f\"{lista_matrices[posicion_matriz][fila_matriz]}\", end=\" + \")\n",
        "                elif posicion_matriz < len(lista_matrices) - 1:\n",
        "                    print(f\"{lista_matrices[posicion_matriz][fila_matriz]}\", end=\" = \")\n",
        "                else:\n",
        "                    print(f\"{lista_matrices[posicion_matriz][fila_matriz]}\", end=\"   \")\n",
        "        print()\n",
        "\n",
        "else:\n",
        "    print(\"Se necesitan dos o más matrices para realizar la suma.\")\n"
      ],
      "metadata": {
        "colab": {
          "base_uri": "https://localhost:8080/"
        },
        "id": "cOZJpn1FAdAy",
        "outputId": "b1eae88a-8b95-4cc5-ffa4-3450f105184b"
      },
      "execution_count": 10,
      "outputs": [
        {
          "output_type": "stream",
          "name": "stdout",
          "text": [
            "¿Cuantas matrices quieres sumar?: 2\n",
            "¿Cuantas filas tendrán las matrices?: 2\n",
            "¿Cuantas columnas tendrán las matrices?: 2\n",
            "Introduce un elemento para la matriz 1 fila 0, columna 0: 1\n",
            "Introduce un elemento para la matriz 1 fila 0, columna 1: 4\n",
            "Introduce un elemento para la matriz 1 fila 1, columna 0: 5\n",
            "Introduce un elemento para la matriz 1 fila 1, columna 1: 8\n",
            "Introduce un elemento para la matriz 2 fila 0, columna 0: 5\n",
            "Introduce un elemento para la matriz 2 fila 0, columna 1: 7\n",
            "Introduce un elemento para la matriz 2 fila 1, columna 0: 7\n",
            "Introduce un elemento para la matriz 2 fila 1, columna 1: 4\n",
            "[1, 4]   [5, 7]   [6, 11]   \n",
            "[5, 8] + [7, 4] = [12, 12]   \n"
          ]
        }
      ]
    }
  ]
}