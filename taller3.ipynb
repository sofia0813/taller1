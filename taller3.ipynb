{
  "nbformat": 4,
  "nbformat_minor": 0,
  "metadata": {
    "colab": {
      "provenance": [],
      "authorship_tag": "ABX9TyOx2YfWMt89RPS0FbKUGzMt",
      "include_colab_link": true
    },
    "kernelspec": {
      "name": "python3",
      "display_name": "Python 3"
    },
    "language_info": {
      "name": "python"
    }
  },
  "cells": [
    {
      "cell_type": "markdown",
      "metadata": {
        "id": "view-in-github",
        "colab_type": "text"
      },
      "source": [
        "<a href=\"https://colab.research.google.com/github/sofia0813/talleres-python-2023/blob/main/taller3.ipynb\" target=\"_parent\"><img src=\"https://colab.research.google.com/assets/colab-badge.svg\" alt=\"Open In Colab\"/></a>"
      ]
    },
    {
      "cell_type": "code",
      "execution_count": null,
      "metadata": {
        "colab": {
          "base_uri": "https://localhost:8080/"
        },
        "id": "X8bQwmgas9-K",
        "outputId": "112945d8-55bb-45f4-b776-591d2baf06ae"
      },
      "outputs": [
        {
          "output_type": "stream",
          "name": "stdout",
          "text": [
            "\n",
            " Digite el primer numero: 7\n",
            "\n",
            " Digite el segundo  numero: 5\n",
            "\n",
            " Digite el tercer numero: 25\n",
            "\n",
            "El número  25 es el más grande de los tres \n"
          ]
        }
      ],
      "source": [
        "num_uno=int(input(\"\\n Digite el primer numero: \"))\n",
        "num_dos=int(input(\"\\n Digite el segundo  numero: \"))\n",
        "num_tres=int(input(\"\\n Digite el tercer numero: \"))\n",
        "\n",
        "if num_uno>num_dos and num_uno > num_tres:\n",
        "  print(\"\\nEl número \" , num_uno , \" es el más grande de los tres \")\n",
        "elif num_dos>num_uno and num_dos > num_tres:\n",
        "  print(\"\\nEl número \" , num_dos , \" es el más grande de los tres \")\n",
        "else:\n",
        "  print(\"\\nEl número \" , num_tres , \"es el más grande de los tres \")\n"
      ]
    }
  ]
}