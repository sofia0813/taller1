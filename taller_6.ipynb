{
  "nbformat": 4,
  "nbformat_minor": 0,
  "metadata": {
    "colab": {
      "provenance": [],
      "authorship_tag": "ABX9TyOaxbTIcWR8e0TsqWvVtr+h",
      "include_colab_link": true
    },
    "kernelspec": {
      "name": "python3",
      "display_name": "Python 3"
    },
    "language_info": {
      "name": "python"
    }
  },
  "cells": [
    {
      "cell_type": "markdown",
      "metadata": {
        "id": "view-in-github",
        "colab_type": "text"
      },
      "source": [
        "<a href=\"https://colab.research.google.com/github/sofia0813/talleres-python-2023/blob/main/taller_6.ipynb\" target=\"_parent\"><img src=\"https://colab.research.google.com/assets/colab-badge.svg\" alt=\"Open In Colab\"/></a>"
      ]
    },
    {
      "cell_type": "code",
      "execution_count": 1,
      "metadata": {
        "colab": {
          "base_uri": "https://localhost:8080/"
        },
        "id": "zLG4vEIbtbyj",
        "outputId": "21a5e6f1-7085-4b58-bfb2-f468fca88fcd"
      },
      "outputs": [
        {
          "output_type": "stream",
          "name": "stdout",
          "text": [
            "Ingrese una cadena de caracteres: hola como te va el dia de hoy\n",
            "Ingrese la palabra que desea eliminar: hoy\n",
            "Cadena resultante después de eliminar la palabra: hola como te va el dia de \n"
          ]
        }
      ],
      "source": [
        "\n",
        "cadena = input(\"Ingrese una cadena de caracteres: \")\n",
        "\n",
        "palabra_a_eliminar = input(\"Ingrese la palabra que desea eliminar: \")\n",
        "\n",
        "if palabra_a_eliminar in cadena:\n",
        "\n",
        "    nueva_cadena = cadena.replace(palabra_a_eliminar, \"\")\n",
        "    print(\"Cadena resultante después de eliminar la palabra:\", nueva_cadena)\n",
        "else:\n",
        "    print(\"La palabra a eliminar no se encuentra en la cadena.\")\n",
        "\n"
      ]
    }
  ]
}