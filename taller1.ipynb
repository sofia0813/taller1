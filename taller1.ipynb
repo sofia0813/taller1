{
  "nbformat": 4,
  "nbformat_minor": 0,
  "metadata": {
    "colab": {
      "provenance": [],
      "authorship_tag": "ABX9TyOrHRSaYoN/hNQ2ojWIZo7d",
      "include_colab_link": true
    },
    "kernelspec": {
      "name": "python3",
      "display_name": "Python 3"
    },
    "language_info": {
      "name": "python"
    }
  },
  "cells": [
    {
      "cell_type": "markdown",
      "metadata": {
        "id": "view-in-github",
        "colab_type": "text"
      },
      "source": [
        "<a href=\"https://colab.research.google.com/github/sofia0813/talleres-python-2023/blob/main/taller1.ipynb\" target=\"_parent\"><img src=\"https://colab.research.google.com/assets/colab-badge.svg\" alt=\"Open In Colab\"/></a>"
      ]
    },
    {
      "cell_type": "code",
      "execution_count": null,
      "metadata": {
        "colab": {
          "base_uri": "https://localhost:8080/"
        },
        "id": "7Kvw6fkR8jWR",
        "outputId": "cef42c27-0505-4cb9-990c-424f9a7128e9"
      },
      "outputs": [
        {
          "name": "stdout",
          "output_type": "stream",
          "text": [
            "¿Cuál es su nombre? asd\n"
          ]
        }
      ],
      "source": [
        "nombre=input(\"¿Cuál es su nombre? \")"
      ]
    },
    {
      "cell_type": "code",
      "source": [
        "clave_departamento=input(\"Ingrese su clave de departamento entre 1,2 ó 3: \")"
      ],
      "metadata": {
        "colab": {
          "base_uri": "https://localhost:8080/"
        },
        "id": "hsZYmtpo9Prk",
        "outputId": "27675c3c-bd47-4022-aecc-2232d9371f2c"
      },
      "execution_count": null,
      "outputs": [
        {
          "name": "stdout",
          "output_type": "stream",
          "text": [
            "Ingrese su clave de departamento entre 1,2 ó 3: 3\n"
          ]
        }
      ]
    },
    {
      "cell_type": "code",
      "source": [
        "antiguedad=input( \"Ingrese en años su antiguedad en la empresa: \")"
      ],
      "metadata": {
        "colab": {
          "base_uri": "https://localhost:8080/"
        },
        "id": "5xPcl64B9qWE",
        "outputId": "4cc4569d-0c4e-41c8-c08e-848600016fdd"
      },
      "execution_count": null,
      "outputs": [
        {
          "name": "stdout",
          "output_type": "stream",
          "text": [
            "Ingrese en años su antiguedad en la empresa: 8\n"
          ]
        }
      ]
    },
    {
      "cell_type": "code",
      "source": [
        "if clave_departamento == \"1\":\n",
        "    if antiguedad == \"1\":\n",
        "        print(nombre + \" tiene 6 días de vacaciones\")\n",
        "    elif \"2\" <= antiguedad <= \"6\":\n",
        "        print(nombre + \" tiene 14 días de vacaciones\")\n",
        "    elif antiguedad >= \"7\":\n",
        "        print(nombre + \" tiene 20 días de vacaciones\")\n",
        "elif clave_departamento == \"2\":\n",
        "    if antiguedad == \"1\":\n",
        "        print(nombre + \" tiene 7 días de vacaciones\")\n",
        "    elif \"2\" <= antiguedad <= \"6\":\n",
        "        print(nombre + \" tiene 15 días de vacaciones\")\n",
        "    elif antiguedad >= \"7\":\n",
        "        print(nombre + \" tiene 22 días de vacaciones\")\n",
        "elif clave_departamento == \"3\":\n",
        "    if antiguedad == \"1\":\n",
        "        print(nombre + \" tiene 10 días de vacaciones\")\n",
        "    elif \"2\" <= antiguedad <= \"6\":\n",
        "        print(nombre + \" tiene 20 días de vacaciones\")\n",
        "    elif antiguedad >= \"7\":\n",
        "        print(nombre + \" tiene 30 días de vacaciones\")\n",
        "    else:\n",
        "        print(\"No es válido\")\n",
        "else:\n",
        "    print(\"No es válido\")\n"
      ],
      "metadata": {
        "colab": {
          "base_uri": "https://localhost:8080/"
        },
        "id": "_d8hpxIg_gkh",
        "outputId": "aafdc0f9-a199-4ea8-b4eb-15d0f90b602c"
      },
      "execution_count": null,
      "outputs": [
        {
          "output_type": "stream",
          "name": "stdout",
          "text": [
            "asd tiene 30 días de vacaciones\n"
          ]
        }
      ]
    }
  ]
}