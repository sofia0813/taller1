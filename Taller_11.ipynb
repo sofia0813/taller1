{
  "nbformat": 4,
  "nbformat_minor": 0,
  "metadata": {
    "colab": {
      "provenance": [],
      "authorship_tag": "ABX9TyPAC3nEs1OR56WJTSb7+TYw",
      "include_colab_link": true
    },
    "kernelspec": {
      "name": "python3",
      "display_name": "Python 3"
    },
    "language_info": {
      "name": "python"
    }
  },
  "cells": [
    {
      "cell_type": "markdown",
      "metadata": {
        "id": "view-in-github",
        "colab_type": "text"
      },
      "source": [
        "<a href=\"https://colab.research.google.com/github/sofia0813/talleres-python-2023/blob/main/Taller_11.ipynb\" target=\"_parent\"><img src=\"https://colab.research.google.com/assets/colab-badge.svg\" alt=\"Open In Colab\"/></a>"
      ]
    },
    {
      "cell_type": "code",
      "source": [
        "lista = [\"A\", \"B\", \"b\", \"c\", \"E\", \"E\", \"f\"]\n",
        "\n",
        "while True:\n",
        "    # Solicitar al usuario que introduzca el elemento a eliminar\n",
        "    elemento_a_eliminar = input(\"Introduce el elemento que deseas eliminar (o 'q' para salir): \")\n",
        "\n",
        "    # Verificar si el usuario desea salir\n",
        "    if elemento_a_eliminar.lower() == 'q':\n",
        "        break\n",
        "\n",
        "    # Eliminar el elemento (si existe) de la lista\n",
        "    if elemento_a_eliminar in lista:\n",
        "        lista.remove(elemento_a_eliminar)\n",
        "        print(f\"Se ha eliminado el elemento '{elemento_a_eliminar}' de la lista.\")\n",
        "    else:\n",
        "        print(f\"El elemento '{elemento_a_eliminar}' no se encontró en la lista.\")\n",
        "\n",
        "# Imprimir la lista resultante\n",
        "print(\"Lista final:\", lista)\n",
        "\n"
      ],
      "metadata": {
        "colab": {
          "base_uri": "https://localhost:8080/"
        },
        "id": "d2qGJfPSBgsp",
        "outputId": "76ec1ff3-37e1-4727-c3ba-db91a0c038eb"
      },
      "execution_count": 25,
      "outputs": [
        {
          "output_type": "stream",
          "name": "stdout",
          "text": [
            "Introduce el elemento que deseas eliminar (o 'q' para salir): A\n",
            "Se ha eliminado el elemento 'A' de la lista.\n",
            "Introduce el elemento que deseas eliminar (o 'q' para salir): a\n",
            "El elemento 'a' no se encontró en la lista.\n",
            "Introduce el elemento que deseas eliminar (o 'q' para salir): q\n",
            "Lista final: ['B', 'b', 'c', 'E', 'E', 'f']\n"
          ]
        }
      ]
    }
  ]
}