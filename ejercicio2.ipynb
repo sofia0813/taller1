{
  "nbformat": 4,
  "nbformat_minor": 0,
  "metadata": {
    "colab": {
      "provenance": [],
      "authorship_tag": "ABX9TyMQ6CO+PM6txwPCr+U7coLQ",
      "include_colab_link": true
    },
    "kernelspec": {
      "name": "python3",
      "display_name": "Python 3"
    },
    "language_info": {
      "name": "python"
    }
  },
  "cells": [
    {
      "cell_type": "markdown",
      "metadata": {
        "id": "view-in-github",
        "colab_type": "text"
      },
      "source": [
        "<a href=\"https://colab.research.google.com/github/sofia0813/talleres-python-2023/blob/main/ejercicio2.ipynb\" target=\"_parent\"><img src=\"https://colab.research.google.com/assets/colab-badge.svg\" alt=\"Open In Colab\"/></a>"
      ]
    },
    {
      "cell_type": "code",
      "execution_count": null,
      "metadata": {
        "id": "Bt_CWT63ITeZ"
      },
      "outputs": [],
      "source": [
        "# Solicitar al usuario un número entero\n",
        "numero = int(input(\"Introduce un número entero: \"))\n",
        "\n",
        "# Determinar si el número es par o impar\n",
        "if numero % 2 == 0:\n",
        "    mensaje = f\"El número {numero} es par\"\n",
        "else:\n",
        "    mensaje = f\"El número {numero} es impar\"\n",
        "\n",
        "# Mostrar el resultado\n",
        "print(mensaje)"
      ]
    }
  ]
}