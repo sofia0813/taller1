{
  "cells": [
    {
      "cell_type": "markdown",
      "metadata": {
        "id": "view-in-github",
        "colab_type": "text"
      },
      "source": [
        "<a href=\"https://colab.research.google.com/github/sofia0813/talleres-python-2023/blob/main/trabajo_final.ipynb\" target=\"_parent\"><img src=\"https://colab.research.google.com/assets/colab-badge.svg\" alt=\"Open In Colab\"/></a>"
      ]
    },
    {
      "cell_type": "code",
      "source": [
        "import pandas as pd\n",
        "import numpy as np\n",
        "import matplotlib.pyplot as plt\n",
        "from sklearn.neighbors import KNeighborsClassifier\n",
        "from sklearn.ensemble import RandomForestClassifier\n",
        "from sklearn.linear_model import LogisticRegression\n",
        "from sklearn.naive_bayes import GaussianNB\n",
        "from sklearn.tree import DecisionTreeClassifier\n",
        "from sklearn.svm import SVC\n",
        "from sklearn.linear_model import LinearRegression\n",
        "import seaborn as sns\n",
        "from sklearn.preprocessing import MinMaxScaler, Normalizer, OrdinalEncoder\n",
        "from sklearn import metrics\n",
        "from sklearn.metrics import confusion_matrix, make_scorer\n",
        "from sklearn.metrics import roc_auc_score, accuracy_score\n",
        "from sklearn.metrics import accuracy_score\n",
        "from sklearn.metrics import f1_score\n",
        "from sklearn.metrics import confusion_matrix\n",
        "from sklearn.metrics import precision_score\n",
        "from sklearn.metrics import recall_score\n",
        "from sklearn.metrics import classification_report\n",
        "from sklearn.model_selection import train_test_split"
      ],
      "metadata": {
        "id": "Xo-_nBZhoBkk"
      },
      "execution_count": 80,
      "outputs": []
    },
    {
      "cell_type": "code",
      "execution_count": 81,
      "metadata": {
        "id": "zzeKe1i_FGhL"
      },
      "outputs": [],
      "source": [
        "import pandas as pd\n"
      ]
    },
    {
      "cell_type": "code",
      "execution_count": 92,
      "metadata": {
        "colab": {
          "base_uri": "https://localhost:8080/",
          "height": 90
        },
        "id": "QfzHbfLYFLQX",
        "outputId": "a7555eff-62b3-431f-8d95-21b7b6b0416e"
      },
      "outputs": [
        {
          "output_type": "display_data",
          "data": {
            "text/plain": [
              "<IPython.core.display.HTML object>"
            ],
            "text/html": [
              "\n",
              "     <input type=\"file\" id=\"files-d58d6773-595b-4118-a272-364fb205598c\" name=\"files[]\" multiple disabled\n",
              "        style=\"border:none\" />\n",
              "     <output id=\"result-d58d6773-595b-4118-a272-364fb205598c\">\n",
              "      Upload widget is only available when the cell has been executed in the\n",
              "      current browser session. Please rerun this cell to enable.\n",
              "      </output>\n",
              "      <script>// Copyright 2017 Google LLC\n",
              "//\n",
              "// Licensed under the Apache License, Version 2.0 (the \"License\");\n",
              "// you may not use this file except in compliance with the License.\n",
              "// You may obtain a copy of the License at\n",
              "//\n",
              "//      http://www.apache.org/licenses/LICENSE-2.0\n",
              "//\n",
              "// Unless required by applicable law or agreed to in writing, software\n",
              "// distributed under the License is distributed on an \"AS IS\" BASIS,\n",
              "// WITHOUT WARRANTIES OR CONDITIONS OF ANY KIND, either express or implied.\n",
              "// See the License for the specific language governing permissions and\n",
              "// limitations under the License.\n",
              "\n",
              "/**\n",
              " * @fileoverview Helpers for google.colab Python module.\n",
              " */\n",
              "(function(scope) {\n",
              "function span(text, styleAttributes = {}) {\n",
              "  const element = document.createElement('span');\n",
              "  element.textContent = text;\n",
              "  for (const key of Object.keys(styleAttributes)) {\n",
              "    element.style[key] = styleAttributes[key];\n",
              "  }\n",
              "  return element;\n",
              "}\n",
              "\n",
              "// Max number of bytes which will be uploaded at a time.\n",
              "const MAX_PAYLOAD_SIZE = 100 * 1024;\n",
              "\n",
              "function _uploadFiles(inputId, outputId) {\n",
              "  const steps = uploadFilesStep(inputId, outputId);\n",
              "  const outputElement = document.getElementById(outputId);\n",
              "  // Cache steps on the outputElement to make it available for the next call\n",
              "  // to uploadFilesContinue from Python.\n",
              "  outputElement.steps = steps;\n",
              "\n",
              "  return _uploadFilesContinue(outputId);\n",
              "}\n",
              "\n",
              "// This is roughly an async generator (not supported in the browser yet),\n",
              "// where there are multiple asynchronous steps and the Python side is going\n",
              "// to poll for completion of each step.\n",
              "// This uses a Promise to block the python side on completion of each step,\n",
              "// then passes the result of the previous step as the input to the next step.\n",
              "function _uploadFilesContinue(outputId) {\n",
              "  const outputElement = document.getElementById(outputId);\n",
              "  const steps = outputElement.steps;\n",
              "\n",
              "  const next = steps.next(outputElement.lastPromiseValue);\n",
              "  return Promise.resolve(next.value.promise).then((value) => {\n",
              "    // Cache the last promise value to make it available to the next\n",
              "    // step of the generator.\n",
              "    outputElement.lastPromiseValue = value;\n",
              "    return next.value.response;\n",
              "  });\n",
              "}\n",
              "\n",
              "/**\n",
              " * Generator function which is called between each async step of the upload\n",
              " * process.\n",
              " * @param {string} inputId Element ID of the input file picker element.\n",
              " * @param {string} outputId Element ID of the output display.\n",
              " * @return {!Iterable<!Object>} Iterable of next steps.\n",
              " */\n",
              "function* uploadFilesStep(inputId, outputId) {\n",
              "  const inputElement = document.getElementById(inputId);\n",
              "  inputElement.disabled = false;\n",
              "\n",
              "  const outputElement = document.getElementById(outputId);\n",
              "  outputElement.innerHTML = '';\n",
              "\n",
              "  const pickedPromise = new Promise((resolve) => {\n",
              "    inputElement.addEventListener('change', (e) => {\n",
              "      resolve(e.target.files);\n",
              "    });\n",
              "  });\n",
              "\n",
              "  const cancel = document.createElement('button');\n",
              "  inputElement.parentElement.appendChild(cancel);\n",
              "  cancel.textContent = 'Cancel upload';\n",
              "  const cancelPromise = new Promise((resolve) => {\n",
              "    cancel.onclick = () => {\n",
              "      resolve(null);\n",
              "    };\n",
              "  });\n",
              "\n",
              "  // Wait for the user to pick the files.\n",
              "  const files = yield {\n",
              "    promise: Promise.race([pickedPromise, cancelPromise]),\n",
              "    response: {\n",
              "      action: 'starting',\n",
              "    }\n",
              "  };\n",
              "\n",
              "  cancel.remove();\n",
              "\n",
              "  // Disable the input element since further picks are not allowed.\n",
              "  inputElement.disabled = true;\n",
              "\n",
              "  if (!files) {\n",
              "    return {\n",
              "      response: {\n",
              "        action: 'complete',\n",
              "      }\n",
              "    };\n",
              "  }\n",
              "\n",
              "  for (const file of files) {\n",
              "    const li = document.createElement('li');\n",
              "    li.append(span(file.name, {fontWeight: 'bold'}));\n",
              "    li.append(span(\n",
              "        `(${file.type || 'n/a'}) - ${file.size} bytes, ` +\n",
              "        `last modified: ${\n",
              "            file.lastModifiedDate ? file.lastModifiedDate.toLocaleDateString() :\n",
              "                                    'n/a'} - `));\n",
              "    const percent = span('0% done');\n",
              "    li.appendChild(percent);\n",
              "\n",
              "    outputElement.appendChild(li);\n",
              "\n",
              "    const fileDataPromise = new Promise((resolve) => {\n",
              "      const reader = new FileReader();\n",
              "      reader.onload = (e) => {\n",
              "        resolve(e.target.result);\n",
              "      };\n",
              "      reader.readAsArrayBuffer(file);\n",
              "    });\n",
              "    // Wait for the data to be ready.\n",
              "    let fileData = yield {\n",
              "      promise: fileDataPromise,\n",
              "      response: {\n",
              "        action: 'continue',\n",
              "      }\n",
              "    };\n",
              "\n",
              "    // Use a chunked sending to avoid message size limits. See b/62115660.\n",
              "    let position = 0;\n",
              "    do {\n",
              "      const length = Math.min(fileData.byteLength - position, MAX_PAYLOAD_SIZE);\n",
              "      const chunk = new Uint8Array(fileData, position, length);\n",
              "      position += length;\n",
              "\n",
              "      const base64 = btoa(String.fromCharCode.apply(null, chunk));\n",
              "      yield {\n",
              "        response: {\n",
              "          action: 'append',\n",
              "          file: file.name,\n",
              "          data: base64,\n",
              "        },\n",
              "      };\n",
              "\n",
              "      let percentDone = fileData.byteLength === 0 ?\n",
              "          100 :\n",
              "          Math.round((position / fileData.byteLength) * 100);\n",
              "      percent.textContent = `${percentDone}% done`;\n",
              "\n",
              "    } while (position < fileData.byteLength);\n",
              "  }\n",
              "\n",
              "  // All done.\n",
              "  yield {\n",
              "    response: {\n",
              "      action: 'complete',\n",
              "    }\n",
              "  };\n",
              "}\n",
              "\n",
              "scope.google = scope.google || {};\n",
              "scope.google.colab = scope.google.colab || {};\n",
              "scope.google.colab._files = {\n",
              "  _uploadFiles,\n",
              "  _uploadFilesContinue,\n",
              "};\n",
              "})(self);\n",
              "</script> "
            ]
          },
          "metadata": {}
        },
        {
          "output_type": "stream",
          "name": "stdout",
          "text": [
            "Saving BaseDatosPython.xlsx to BaseDatosPython (3).xlsx\n"
          ]
        }
      ],
      "source": [
        "from google.colab import files\n",
        "uploaded = files.upload()"
      ]
    },
    {
      "cell_type": "code",
      "source": [
        "import io\n",
        "df = pd.read_excel(io.BytesIO(uploaded['BaseDatosPython (3).xlsx']))\n",
        "print(df.shape)"
      ],
      "metadata": {
        "colab": {
          "base_uri": "https://localhost:8080/"
        },
        "id": "oXzjyy_kobaX",
        "outputId": "76ad2885-3a52-4265-ebdd-38a3feb57790"
      },
      "execution_count": 93,
      "outputs": [
        {
          "output_type": "stream",
          "name": "stdout",
          "text": [
            "(839, 24)\n"
          ]
        }
      ]
    },
    {
      "cell_type": "code",
      "execution_count": null,
      "metadata": {
        "colab": {
          "base_uri": "https://localhost:8080/"
        },
        "id": "PQF6-fonYU1u",
        "outputId": "c8547e40-ddb5-49e2-d1c0-bacb96135029"
      },
      "outputs": [
        {
          "data": {
            "text/plain": [
              "0    487\n",
              "1    352\n",
              "Name: Grade, dtype: int64"
            ]
          },
          "execution_count": 7,
          "metadata": {},
          "output_type": "execute_result"
        }
      ],
      "source": [
        "#obtener el conteo de grado del tumor 0=no 1=si\n",
        "df['Grade'].value_counts()"
      ]
    },
    {
      "cell_type": "code",
      "execution_count": null,
      "metadata": {
        "colab": {
          "base_uri": "https://localhost:8080/",
          "height": 489
        },
        "id": "_apAj_x6Y-pO",
        "outputId": "f039898b-ab7d-48f8-de23-3b758ad39f1a"
      },
      "outputs": [
        {
          "data": {
            "text/plain": [
              "Text(0.5, 1.0, 'Grade: Si=1,No=0')"
            ]
          },
          "execution_count": 10,
          "metadata": {},
          "output_type": "execute_result"
        },
        {
          "data": {
            "image/png": "[encoded data removed]",
            "text/plain": [
              "<Figure size 640x480 with 1 Axes>"
            ]
          },
          "metadata": {},
          "output_type": "display_data"
        }
      ],
      "source": [
        "import seaborn as sns\n",
        "import matplotlib.pyplot as plt\n",
        "sns.countplot(data=df, x=\"Grade\")\n",
        "plt.title(\"Grade: Si=1,No=0\")"
      ]
    },
    {
      "cell_type": "code",
      "execution_count": null,
      "metadata": {
        "colab": {
          "base_uri": "https://localhost:8080/"
        },
        "id": "ERowY9uUaSPQ",
        "outputId": "7c3f0cbc-75fb-46ba-fb9b-7b2eeca80c16"
      },
      "outputs": [
        {
          "data": {
            "text/plain": [
              "Grade               0\n",
              "Gender              0\n",
              "Age_at_diagnosis    0\n",
              "Race                0\n",
              "IDH1                0\n",
              "TP53                0\n",
              "ATRX                0\n",
              "PTEN                0\n",
              "EGFR                0\n",
              "CIC                 0\n",
              "MUC16               0\n",
              "PIK3CA              0\n",
              "NF1                 0\n",
              "PIK3R1              0\n",
              "FUBP1               0\n",
              "RB1                 0\n",
              "NOTCH1              0\n",
              "BCOR                0\n",
              "CSMD3               0\n",
              "SMARCA4             0\n",
              "GRIN2A              0\n",
              "IDH2                0\n",
              "FAT4                0\n",
              "PDGFRA              0\n",
              "dtype: int64"
            ]
          },
          "execution_count": 13,
          "metadata": {},
          "output_type": "execute_result"
        }
      ],
      "source": [
        "#Encontrar datos o \"null\" (si hay alguno)\n",
        "df.isnull().sum()"
      ]
    },
    {
      "cell_type": "code",
      "execution_count": null,
      "metadata": {
        "colab": {
          "base_uri": "https://localhost:8080/"
        },
        "id": "5dENcL5ua41w",
        "outputId": "8cb8f02b-60a4-492a-d692-a0b12a1ac4ab"
      },
      "outputs": [
        {
          "data": {
            "text/plain": [
              "Grade                 int64\n",
              "Gender                int64\n",
              "Age_at_diagnosis    float64\n",
              "Race                  int64\n",
              "IDH1                  int64\n",
              "TP53                  int64\n",
              "ATRX                  int64\n",
              "PTEN                  int64\n",
              "EGFR                  int64\n",
              "CIC                   int64\n",
              "MUC16                 int64\n",
              "PIK3CA                int64\n",
              "NF1                   int64\n",
              "PIK3R1                int64\n",
              "FUBP1                 int64\n",
              "RB1                   int64\n",
              "NOTCH1                int64\n",
              "BCOR                  int64\n",
              "CSMD3                 int64\n",
              "SMARCA4               int64\n",
              "GRIN2A                int64\n",
              "IDH2                  int64\n",
              "FAT4                  int64\n",
              "PDGFRA                int64\n",
              "dtype: object"
            ]
          },
          "execution_count": 14,
          "metadata": {},
          "output_type": "execute_result"
        }
      ],
      "source": [
        "df.dtypes"
      ]
    },
    {
      "cell_type": "code",
      "execution_count": null,
      "metadata": {
        "id": "OldWevYFdqzO"
      },
      "outputs": [],
      "source": [
        "import matplotlib.pyplot as plt"
      ]
    },
    {
      "cell_type": "code",
      "execution_count": null,
      "metadata": {
        "colab": {
          "base_uri": "https://localhost:8080/",
          "height": 179
        },
        "id": "EMQNmojpdtae",
        "outputId": "03ee548b-cd7a-493b-ed69-a531fd02ed98"
      },
      "outputs": [
        {
          "data": {
            "image/png": "[encoded data removed]",
            "text/plain": [
              "<Figure size 1500x200 with 1 Axes>"
            ]
          },
          "metadata": {},
          "output_type": "display_data"
        }
      ],
      "source": [
        "plt.figure(figsize=(15, 2))\n",
        "sns.boxplot(data=df)\n",
        "plt.xticks(rotation=90);"
      ]
    },
    {
      "cell_type": "code",
      "execution_count": null,
      "metadata": {
        "id": "jxh9AhG4dzPf"
      },
      "outputs": [],
      "source": [
        "from sklearn.preprocessing import MinMaxScaler"
      ]
    },
    {
      "cell_type": "code",
      "execution_count": null,
      "metadata": {
        "colab": {
          "base_uri": "https://localhost:8080/",
          "height": 255
        },
        "id": "DWoI7-N4d0Gt",
        "outputId": "c3db9346-56c1-47d5-a05c-41e82b02c04d"
      },
      "outputs": [
        {
          "data": {
            "text/html": [
              "\n",
              "  <div id=\"df-605c6ec1-2220-464b-a776-dab487cd6f87\" class=\"colab-df-container\">\n",
              "    <div>\n",
              "<style scoped>\n",
              "    .dataframe tbody tr th:only-of-type {\n",
              "        vertical-align: middle;\n",
              "    }\n",
              "\n",
              "    .dataframe tbody tr th {\n",
              "        vertical-align: top;\n",
              "    }\n",
              "\n",
              "    .dataframe thead th {\n",
              "        text-align: right;\n",
              "    }\n",
              "</style>\n",
              "<table border=\"1\" class=\"dataframe\">\n",
              "  <thead>\n",
              "    <tr style=\"text-align: right;\">\n",
              "      <th></th>\n",
              "      <th>Grade</th>\n",
              "      <th>Gender</th>\n",
              "      <th>Age_at_diagnosis</th>\n",
              "      <th>Race</th>\n",
              "      <th>IDH1</th>\n",
              "      <th>TP53</th>\n",
              "      <th>ATRX</th>\n",
              "      <th>PTEN</th>\n",
              "      <th>EGFR</th>\n",
              "      <th>CIC</th>\n",
              "      <th>...</th>\n",
              "      <th>FUBP1</th>\n",
              "      <th>RB1</th>\n",
              "      <th>NOTCH1</th>\n",
              "      <th>BCOR</th>\n",
              "      <th>CSMD3</th>\n",
              "      <th>SMARCA4</th>\n",
              "      <th>GRIN2A</th>\n",
              "      <th>IDH2</th>\n",
              "      <th>FAT4</th>\n",
              "      <th>PDGFRA</th>\n",
              "    </tr>\n",
              "  </thead>\n",
              "  <tbody>\n",
              "    <tr>\n",
              "      <th>0</th>\n",
              "      <td>0.0</td>\n",
              "      <td>0.0</td>\n",
              "      <td>0.492587</td>\n",
              "      <td>0.0</td>\n",
              "      <td>1.0</td>\n",
              "      <td>0.0</td>\n",
              "      <td>0.0</td>\n",
              "      <td>0.0</td>\n",
              "      <td>0.0</td>\n",
              "      <td>0.0</td>\n",
              "      <td>...</td>\n",
              "      <td>1.0</td>\n",
              "      <td>0.0</td>\n",
              "      <td>0.0</td>\n",
              "      <td>0.0</td>\n",
              "      <td>0.0</td>\n",
              "      <td>0.0</td>\n",
              "      <td>0.0</td>\n",
              "      <td>0.0</td>\n",
              "      <td>0.0</td>\n",
              "      <td>0.0</td>\n",
              "    </tr>\n",
              "    <tr>\n",
              "      <th>1</th>\n",
              "      <td>0.0</td>\n",
              "      <td>0.0</td>\n",
              "      <td>0.324563</td>\n",
              "      <td>0.0</td>\n",
              "      <td>1.0</td>\n",
              "      <td>0.0</td>\n",
              "      <td>0.0</td>\n",
              "      <td>0.0</td>\n",
              "      <td>0.0</td>\n",
              "      <td>1.0</td>\n",
              "      <td>...</td>\n",
              "      <td>0.0</td>\n",
              "      <td>0.0</td>\n",
              "      <td>0.0</td>\n",
              "      <td>0.0</td>\n",
              "      <td>0.0</td>\n",
              "      <td>0.0</td>\n",
              "      <td>0.0</td>\n",
              "      <td>0.0</td>\n",
              "      <td>0.0</td>\n",
              "      <td>0.0</td>\n",
              "    </tr>\n",
              "    <tr>\n",
              "      <th>2</th>\n",
              "      <td>0.0</td>\n",
              "      <td>0.0</td>\n",
              "      <td>0.277147</td>\n",
              "      <td>0.0</td>\n",
              "      <td>1.0</td>\n",
              "      <td>1.0</td>\n",
              "      <td>1.0</td>\n",
              "      <td>0.0</td>\n",
              "      <td>0.0</td>\n",
              "      <td>0.0</td>\n",
              "      <td>...</td>\n",
              "      <td>0.0</td>\n",
              "      <td>0.0</td>\n",
              "      <td>0.0</td>\n",
              "      <td>0.0</td>\n",
              "      <td>0.0</td>\n",
              "      <td>0.0</td>\n",
              "      <td>0.0</td>\n",
              "      <td>0.0</td>\n",
              "      <td>0.0</td>\n",
              "      <td>0.0</td>\n",
              "    </tr>\n",
              "    <tr>\n",
              "      <th>3</th>\n",
              "      <td>0.0</td>\n",
              "      <td>1.0</td>\n",
              "      <td>0.245225</td>\n",
              "      <td>0.0</td>\n",
              "      <td>1.0</td>\n",
              "      <td>1.0</td>\n",
              "      <td>1.0</td>\n",
              "      <td>0.0</td>\n",
              "      <td>0.0</td>\n",
              "      <td>0.0</td>\n",
              "      <td>...</td>\n",
              "      <td>0.0</td>\n",
              "      <td>0.0</td>\n",
              "      <td>0.0</td>\n",
              "      <td>0.0</td>\n",
              "      <td>0.0</td>\n",
              "      <td>0.0</td>\n",
              "      <td>0.0</td>\n",
              "      <td>0.0</td>\n",
              "      <td>1.0</td>\n",
              "      <td>0.0</td>\n",
              "    </tr>\n",
              "    <tr>\n",
              "      <th>4</th>\n",
              "      <td>0.0</td>\n",
              "      <td>0.0</td>\n",
              "      <td>0.228262</td>\n",
              "      <td>0.0</td>\n",
              "      <td>1.0</td>\n",
              "      <td>1.0</td>\n",
              "      <td>1.0</td>\n",
              "      <td>0.0</td>\n",
              "      <td>0.0</td>\n",
              "      <td>0.0</td>\n",
              "      <td>...</td>\n",
              "      <td>0.0</td>\n",
              "      <td>0.0</td>\n",
              "      <td>0.0</td>\n",
              "      <td>0.0</td>\n",
              "      <td>0.0</td>\n",
              "      <td>0.0</td>\n",
              "      <td>0.0</td>\n",
              "      <td>0.0</td>\n",
              "      <td>0.0</td>\n",
              "      <td>0.0</td>\n",
              "    </tr>\n",
              "  </tbody>\n",
              "</table>\n",
              "<p>5 rows × 24 columns</p>\n",
              "</div>\n",
              "    <div class=\"colab-df-buttons\">\n",
              "\n",
              "  <div class=\"colab-df-container\">\n",
              "    <button class=\"colab-df-convert\" onclick=\"convertToInteractive('df-605c6ec1-2220-464b-a776-dab487cd6f87')\"\n",
              "            title=\"Convert this dataframe to an interactive table.\"\n",
              "            style=\"display:none;\">\n",
              "\n",
              "  <svg xmlns=\"http://www.w3.org/2000/svg\" height=\"24px\" viewBox=\"0 -960 960 960\">\n",
              "    <path d=\"M120-120v-720h720v720H120Zm60-500h600v-160H180v160Zm220 220h160v-160H400v160Zm0 220h160v-160H400v160ZM180-400h160v-160H180v160Zm440 0h160v-160H620v160ZM180-180h160v-160H180v160Zm440 0h160v-160H620v160Z\"/>\n",
              "  </svg>\n",
              "    </button>\n",
              "\n",
              "  <style>\n",
              "    .colab-df-container {\n",
              "      display:flex;\n",
              "      gap: 12px;\n",
              "    }\n",
              "\n",
              "    .colab-df-convert {\n",
              "      background-color: #E8F0FE;\n",
              "      border: none;\n",
              "      border-radius: 50%;\n",
              "      cursor: pointer;\n",
              "      display: none;\n",
              "      fill: #1967D2;\n",
              "      height: 32px;\n",
              "      padding: 0 0 0 0;\n",
              "      width: 32px;\n",
              "    }\n",
              "\n",
              "    .colab-df-convert:hover {\n",
              "      background-color: #E2EBFA;\n",
              "      box-shadow: 0px 1px 2px rgba(60, 64, 67, 0.3), 0px 1px 3px 1px rgba(60, 64, 67, 0.15);\n",
              "      fill: #174EA6;\n",
              "    }\n",
              "\n",
              "    .colab-df-buttons div {\n",
              "      margin-bottom: 4px;\n",
              "    }\n",
              "\n",
              "    [theme=dark] .colab-df-convert {\n",
              "      background-color: #3B4455;\n",
              "      fill: #D2E3FC;\n",
              "    }\n",
              "\n",
              "    [theme=dark] .colab-df-convert:hover {\n",
              "      background-color: #434B5C;\n",
              "      box-shadow: 0px 1px 3px 1px rgba(0, 0, 0, 0.15);\n",
              "      filter: drop-shadow(0px 1px 2px rgba(0, 0, 0, 0.3));\n",
              "      fill: #FFFFFF;\n",
              "    }\n",
              "  </style>\n",
              "\n",
              "    <script>\n",
              "      const buttonEl =\n",
              "        document.querySelector('#df-605c6ec1-2220-464b-a776-dab487cd6f87 button.colab-df-convert');\n",
              "      buttonEl.style.display =\n",
              "        google.colab.kernel.accessAllowed ? 'block' : 'none';\n",
              "\n",
              "      async function convertToInteractive(key) {\n",
              "        const element = document.querySelector('#df-605c6ec1-2220-464b-a776-dab487cd6f87');\n",
              "        const dataTable =\n",
              "          await google.colab.kernel.invokeFunction('convertToInteractive',\n",
              "                                                    [key], {});\n",
              "        if (!dataTable) return;\n",
              "\n",
              "        const docLinkHtml = 'Like what you see? Visit the ' +\n",
              "          '<a target=\"_blank\" href=https://colab.research.google.com/notebooks/data_table.ipynb>data table notebook</a>'\n",
              "          + ' to learn more about interactive tables.';\n",
              "        element.innerHTML = '';\n",
              "        dataTable['output_type'] = 'display_data';\n",
              "        await google.colab.output.renderOutput(dataTable, element);\n",
              "        const docLink = document.createElement('div');\n",
              "        docLink.innerHTML = docLinkHtml;\n",
              "        element.appendChild(docLink);\n",
              "      }\n",
              "    </script>\n",
              "  </div>\n",
              "\n",
              "\n",
              "<div id=\"df-ebfebf48-271d-426b-96ae-d60b028ec8c0\">\n",
              "  <button class=\"colab-df-quickchart\" onclick=\"quickchart('df-ebfebf48-271d-426b-96ae-d60b028ec8c0')\"\n",
              "            title=\"Suggest charts.\"\n",
              "            style=\"display:none;\">\n",
              "\n",
              "<svg xmlns=\"http://www.w3.org/2000/svg\" height=\"24px\"viewBox=\"0 0 24 24\"\n",
              "     width=\"24px\">\n",
              "    <g>\n",
              "        <path d=\"M19 3H5c-1.1 0-2 .9-2 2v14c0 1.1.9 2 2 2h14c1.1 0 2-.9 2-2V5c0-1.1-.9-2-2-2zM9 17H7v-7h2v7zm4 0h-2V7h2v10zm4 0h-2v-4h2v4z\"/>\n",
              "    </g>\n",
              "</svg>\n",
              "  </button>\n",
              "\n",
              "<style>\n",
              "  .colab-df-quickchart {\n",
              "      --bg-color: #E8F0FE;\n",
              "      --fill-color: #1967D2;\n",
              "      --hover-bg-color: #E2EBFA;\n",
              "      --hover-fill-color: #174EA6;\n",
              "      --disabled-fill-color: #AAA;\n",
              "      --disabled-bg-color: #DDD;\n",
              "  }\n",
              "\n",
              "  [theme=dark] .colab-df-quickchart {\n",
              "      --bg-color: #3B4455;\n",
              "      --fill-color: #D2E3FC;\n",
              "      --hover-bg-color: #434B5C;\n",
              "      --hover-fill-color: #FFFFFF;\n",
              "      --disabled-bg-color: #3B4455;\n",
              "      --disabled-fill-color: #666;\n",
              "  }\n",
              "\n",
              "  .colab-df-quickchart {\n",
              "    background-color: var(--bg-color);\n",
              "    border: none;\n",
              "    border-radius: 50%;\n",
              "    cursor: pointer;\n",
              "    display: none;\n",
              "    fill: var(--fill-color);\n",
              "    height: 32px;\n",
              "    padding: 0;\n",
              "    width: 32px;\n",
              "  }\n",
              "\n",
              "  .colab-df-quickchart:hover {\n",
              "    background-color: var(--hover-bg-color);\n",
              "    box-shadow: 0 1px 2px rgba(60, 64, 67, 0.3), 0 1px 3px 1px rgba(60, 64, 67, 0.15);\n",
              "    fill: var(--button-hover-fill-color);\n",
              "  }\n",
              "\n",
              "  .colab-df-quickchart-complete:disabled,\n",
              "  .colab-df-quickchart-complete:disabled:hover {\n",
              "    background-color: var(--disabled-bg-color);\n",
              "    fill: var(--disabled-fill-color);\n",
              "    box-shadow: none;\n",
              "  }\n",
              "\n",
              "  .colab-df-spinner {\n",
              "    border: 2px solid var(--fill-color);\n",
              "    border-color: transparent;\n",
              "    border-bottom-color: var(--fill-color);\n",
              "    animation:\n",
              "      spin 1s steps(1) infinite;\n",
              "  }\n",
              "\n",
              "  @keyframes spin {\n",
              "    0% {\n",
              "      border-color: transparent;\n",
              "      border-bottom-color: var(--fill-color);\n",
              "      border-left-color: var(--fill-color);\n",
              "    }\n",
              "    20% {\n",
              "      border-color: transparent;\n",
              "      border-left-color: var(--fill-color);\n",
              "      border-top-color: var(--fill-color);\n",
              "    }\n",
              "    30% {\n",
              "      border-color: transparent;\n",
              "      border-left-color: var(--fill-color);\n",
              "      border-top-color: var(--fill-color);\n",
              "      border-right-color: var(--fill-color);\n",
              "    }\n",
              "    40% {\n",
              "      border-color: transparent;\n",
              "      border-right-color: var(--fill-color);\n",
              "      border-top-color: var(--fill-color);\n",
              "    }\n",
              "    60% {\n",
              "      border-color: transparent;\n",
              "      border-right-color: var(--fill-color);\n",
              "    }\n",
              "    80% {\n",
              "      border-color: transparent;\n",
              "      border-right-color: var(--fill-color);\n",
              "      border-bottom-color: var(--fill-color);\n",
              "    }\n",
              "    90% {\n",
              "      border-color: transparent;\n",
              "      border-bottom-color: var(--fill-color);\n",
              "    }\n",
              "  }\n",
              "</style>\n",
              "\n",
              "  <script>\n",
              "    async function quickchart(key) {\n",
              "      const quickchartButtonEl =\n",
              "        document.querySelector('#' + key + ' button');\n",
              "      quickchartButtonEl.disabled = true;  // To prevent multiple clicks.\n",
              "      quickchartButtonEl.classList.add('colab-df-spinner');\n",
              "      try {\n",
              "        const charts = await google.colab.kernel.invokeFunction(\n",
              "            'suggestCharts', [key], {});\n",
              "      } catch (error) {\n",
              "        console.error('Error during call to suggestCharts:', error);\n",
              "      }\n",
              "      quickchartButtonEl.classList.remove('colab-df-spinner');\n",
              "      quickchartButtonEl.classList.add('colab-df-quickchart-complete');\n",
              "    }\n",
              "    (() => {\n",
              "      let quickchartButtonEl =\n",
              "        document.querySelector('#df-ebfebf48-271d-426b-96ae-d60b028ec8c0 button');\n",
              "      quickchartButtonEl.style.display =\n",
              "        google.colab.kernel.accessAllowed ? 'block' : 'none';\n",
              "    })();\n",
              "  </script>\n",
              "</div>\n",
              "    </div>\n",
              "  </div>\n"
            ],
            "text/plain": [
              "   Grade  Gender  Age_at_diagnosis  Race  IDH1  TP53  ATRX  PTEN  EGFR  CIC  \\\n",
              "0    0.0     0.0          0.492587   0.0   1.0   0.0   0.0   0.0   0.0  0.0   \n",
              "1    0.0     0.0          0.324563   0.0   1.0   0.0   0.0   0.0   0.0  1.0   \n",
              "2    0.0     0.0          0.277147   0.0   1.0   1.0   1.0   0.0   0.0  0.0   \n",
              "3    0.0     1.0          0.245225   0.0   1.0   1.0   1.0   0.0   0.0  0.0   \n",
              "4    0.0     0.0          0.228262   0.0   1.0   1.0   1.0   0.0   0.0  0.0   \n",
              "\n",
              "   ...  FUBP1  RB1  NOTCH1  BCOR  CSMD3  SMARCA4  GRIN2A  IDH2  FAT4  PDGFRA  \n",
              "0  ...    1.0  0.0     0.0   0.0    0.0      0.0     0.0   0.0   0.0     0.0  \n",
              "1  ...    0.0  0.0     0.0   0.0    0.0      0.0     0.0   0.0   0.0     0.0  \n",
              "2  ...    0.0  0.0     0.0   0.0    0.0      0.0     0.0   0.0   0.0     0.0  \n",
              "3  ...    0.0  0.0     0.0   0.0    0.0      0.0     0.0   0.0   1.0     0.0  \n",
              "4  ...    0.0  0.0     0.0   0.0    0.0      0.0     0.0   0.0   0.0     0.0  \n",
              "\n",
              "[5 rows x 24 columns]"
            ]
          },
          "execution_count": 31,
          "metadata": {},
          "output_type": "execute_result"
        }
      ],
      "source": [
        "scaler = MinMaxScaler()\n",
        "df_norm = pd.DataFrame(scaler.fit_transform(df), columns=df.columns)\n",
        "df_norm.head()"
      ]
    },
    {
      "cell_type": "code",
      "execution_count": null,
      "metadata": {
        "colab": {
          "base_uri": "https://localhost:8080/",
          "height": 629
        },
        "id": "T6MwgFy5Iqag",
        "outputId": "cac9afa0-e682-4854-fe4d-140b3019c330"
      },
      "outputs": [
        {
          "data": {
            "image/png": "[encoded data removed]",
            "text/plain": [
              "<Figure size 1000x600 with 1 Axes>"
            ]
          },
          "metadata": {},
          "output_type": "display_data"
        }
      ],
      "source": [
        "plt.figure(figsize=(10, 6))\n",
        "sns.boxplot(data=df_norm)\n",
        "plt.xticks(rotation=90);"
      ]
    },
    {
      "cell_type": "code",
      "execution_count": 102,
      "metadata": {
        "id": "-ootSPEmI-J5"
      },
      "outputs": [],
      "source": [
        "X=df.iloc[:, 22: 89].values\n",
        "Y=df.iloc[:, 0].values\n",
        "Y=Y.reshape(Y.size,1)\n"
      ]
    },
    {
      "cell_type": "code",
      "execution_count": 115,
      "metadata": {
        "id": "v9sIRCIigsPb",
        "colab": {
          "base_uri": "https://localhost:8080/"
        },
        "outputId": "3ce7163c-cb1d-4456-90bd-728fc91c6bdd"
      },
      "outputs": [
        {
          "output_type": "execute_result",
          "data": {
            "text/plain": [
              "((587, 2), (252, 2), (587,), (252,))"
            ]
          },
          "metadata": {},
          "execution_count": 115
        }
      ],
      "source": [
        "# Definir el conjunto de entrenamiento y el conjunto de prueba\n",
        "X_train, X_test, y_train, y_test = train_test_split(X, y, test_size=0.3)\n",
        "# usamos 30% de los datos para la prueba\n",
        "X_train.shape, X_test.shape, y_train.shape, y_test.shape"
      ]
    },
    {
      "cell_type": "code",
      "source": [
        "def tn(y_true, y_pred):\n",
        "    return confusion_matrix(y_true, y_pred)[0, 0]"
      ],
      "metadata": {
        "id": "vKktPpEpmWA-"
      },
      "execution_count": 116,
      "outputs": []
    },
    {
      "cell_type": "code",
      "source": [
        "def fp(y_true, y_pred):\n",
        "    return confusion_matrix(y_true, y_pred)[0, 1]"
      ],
      "metadata": {
        "id": "bKDWf3blmZn9"
      },
      "execution_count": 117,
      "outputs": []
    },
    {
      "cell_type": "code",
      "source": [
        "def fn(y_true, y_pred):\n",
        "    return confusion_matrix(y_true, y_pred)[1, 0]"
      ],
      "metadata": {
        "id": "_NmrqqtumfaF"
      },
      "execution_count": 118,
      "outputs": []
    },
    {
      "cell_type": "code",
      "source": [
        "def tp(y_true, y_pred):\n",
        "    return confusion_matrix(y_true, y_pred)[1, 1]"
      ],
      "metadata": {
        "id": "J7dud83Omhx_"
      },
      "execution_count": 119,
      "outputs": []
    },
    {
      "cell_type": "code",
      "source": [
        "def acc(y_true, y_pred):\n",
        "    return accuracy(y_true, y_pred)"
      ],
      "metadata": {
        "id": "25ouusWymj-k"
      },
      "execution_count": 120,
      "outputs": []
    },
    {
      "cell_type": "code",
      "source": [
        "def accuracy(y_true, y_pred):\n",
        "    cnf_matrix = confusion_matrix(y_true, y_pred)\n",
        "    N = sum(map(sum, cnf_matrix))\n",
        "    tp = cnf_matrix[1, 1]\n",
        "    tn = cnf_matrix[0, 0]\n",
        "    return round((tp + tn) / N, 2)"
      ],
      "metadata": {
        "id": "pzEwDNVZnieE"
      },
      "execution_count": 121,
      "outputs": []
    },
    {
      "cell_type": "code",
      "source": [
        "from sklearn.metrics import confusion_matrix, make_scorer\n",
        "scoring = {'accuracy': make_scorer(metrics.accuracy_score), 'prec': 'precision'}\n",
        "scoring = {'tp': make_scorer(tp), 'tn': make_scorer(tn),\n",
        "           'fp': make_scorer(fp), 'fn': make_scorer(fn),\n",
        "           'acc': make_scorer(acc)}"
      ],
      "metadata": {
        "id": "OP7g_ymxnmRN"
      },
      "execution_count": 122,
      "outputs": []
    },
    {
      "cell_type": "code",
      "source": [
        "def print_result(result):\n",
        "    print(\"True Positive: \", result['test_tp'])\n",
        "    print(\"True Negative: \", result['test_tn'])\n",
        "    print(\"False Negative: \", result['test_fn'])\n",
        "    print(\"False Positive: \", result['test_fp'])\n",
        "    print(\"Accuracy: \", result['test_acc'])"
      ],
      "metadata": {
        "id": "zzMIAYhhnqkQ"
      },
      "execution_count": 123,
      "outputs": []
    },
    {
      "cell_type": "code",
      "source": [
        "acc = []\n",
        "roc = []"
      ],
      "metadata": {
        "id": "_WTDErSMpBOx"
      },
      "execution_count": 124,
      "outputs": []
    },
    {
      "cell_type": "code",
      "source": [
        "model1 = GaussianNB()\n",
        "model1.fit(X_train, y_train)\n",
        "y_pred = model1.predict(X_test)\n",
        "y_pred_train = model1.predict(X_train)"
      ],
      "metadata": {
        "id": "gb2iNUappFGI"
      },
      "execution_count": 125,
      "outputs": []
    },
    {
      "cell_type": "code",
      "source": [
        "ac = accuracy_score(y_test, y_pred)\n",
        "acc.append(ac)\n",
        "ac_train = accuracy_score(y_train, y_pred_train)\n",
        "rc = roc_auc_score(y_test, y_pred)\n",
        "roc.append(rc)\n",
        "print(\"Naive Bayes : \")\n",
        "print (\"Accuracy:\", accuracy_score(y_test, y_pred))\n",
        "print (\"F1 score:\", f1_score(y_test, y_pred))\n",
        "print (\"Recall:\", recall_score(y_test, y_pred))\n",
        "print (\"Precision:\", precision_score(y_test, y_pred))\n",
        "print (\"\\n confussion matrix:\\n\",confusion_matrix(y_test, y_pred))"
      ],
      "metadata": {
        "colab": {
          "base_uri": "https://localhost:8080/"
        },
        "id": "qWYAQwk9qdNb",
        "outputId": "6fc0993a-1aa2-49f5-d426-b32080f21d52"
      },
      "execution_count": 126,
      "outputs": [
        {
          "output_type": "stream",
          "name": "stdout",
          "text": [
            "Naive Bayes : \n",
            "Accuracy: 0.6428571428571429\n",
            "F1 score: 0.16666666666666666\n",
            "Recall: 0.09574468085106383\n",
            "Precision: 0.6428571428571429\n",
            "\n",
            " confussion matrix:\n",
            " [[153   5]\n",
            " [ 85   9]]\n"
          ]
        }
      ]
    },
    {
      "cell_type": "code",
      "source": [
        "# Segundo Modelo - Regresión logística\n",
        "model2 = LogisticRegression()\n",
        "model2.fit(X_train, y_train)\n",
        "model2.score(X_train, y_train)\n",
        "y_pred = model2.predict(X_test)\n",
        "y_pred_train = model2.predict(X_train)"
      ],
      "metadata": {
        "id": "M72iEqOnrrhx"
      },
      "execution_count": 127,
      "outputs": []
    },
    {
      "cell_type": "code",
      "source": [
        "# Accuracy\n",
        "ac = accuracy_score(y_test, y_pred)\n",
        "acc.append(ac)\n",
        "ac_train = accuracy_score(y_train, y_pred_train)\n",
        "# Code for ROC_AUC curve\n",
        "rc = roc_auc_score(y_test, y_pred)\n",
        "roc.append(rc)\n",
        "print(\"****************************************************\")\n",
        "print(\"Logistic Regression : \")\n",
        "print (\"Accuracy:\", accuracy_score(y_test, y_pred))\n",
        "print (\"F1 score:\", f1_score(y_test, y_pred))\n",
        "print (\"Recall:\", recall_score(y_test, y_pred))\n",
        "print (\"Precision:\", precision_score(y_test, y_pred))\n",
        "print (\"\\n confussion matrix:\\n\",confusion_matrix(y_test, y_pred))"
      ],
      "metadata": {
        "colab": {
          "base_uri": "https://localhost:8080/"
        },
        "id": "mWN-5c8Hruno",
        "outputId": "69a8019e-e0a6-4783-802a-510f30d1efc5"
      },
      "execution_count": 128,
      "outputs": [
        {
          "output_type": "stream",
          "name": "stdout",
          "text": [
            "****************************************************\n",
            "Logistic Regression : \n",
            "Accuracy: 0.6349206349206349\n",
            "F1 score: 0.09803921568627451\n",
            "Recall: 0.05319148936170213\n",
            "Precision: 0.625\n",
            "\n",
            " confussion matrix:\n",
            " [[155   3]\n",
            " [ 89   5]]\n"
          ]
        }
      ]
    },
    {
      "cell_type": "code",
      "source": [
        "# Tercer Modelo - Support Vector Machine\n",
        "model3 = SVC(gamma='auto', kernel='linear')\n",
        "model3.fit(X_train, y_train)\n",
        "y_pred = model3.predict(X_test)\n",
        "y_pred_train = model3.predict(X_train)"
      ],
      "metadata": {
        "id": "wIUnaq40rxfS"
      },
      "execution_count": 129,
      "outputs": []
    },
    {
      "cell_type": "code",
      "source": [
        "ac = accuracy_score(y_test, y_pred)\n",
        "acc.append(ac)\n",
        "ac_train = accuracy_score(y_train, y_pred_train)\n",
        "rc = roc_auc_score(y_test, y_pred)\n",
        "roc.append(rc)\n",
        "print(\"****************************************************\")\n",
        "print(\"Support Vector Machine : \")\n",
        "print (\"Accuracy:\", accuracy_score(y_test, y_pred))\n",
        "print (\"F1 score:\", f1_score(y_test, y_pred))\n",
        "print (\"Recall:\", recall_score(y_test, y_pred))\n",
        "print (\"Precision:\", precision_score(y_test, y_pred))\n",
        "print (\"\\n confussion matrix:\\n\",confusion_matrix(y_test, y_pred))"
      ],
      "metadata": {
        "colab": {
          "base_uri": "https://localhost:8080/"
        },
        "id": "wh7hsIjurz7n",
        "outputId": "3209a39c-f18c-4468-a4dd-cf5364aaeeea"
      },
      "execution_count": 130,
      "outputs": [
        {
          "output_type": "stream",
          "name": "stdout",
          "text": [
            "****************************************************\n",
            "Support Vector Machine : \n",
            "Accuracy: 0.6349206349206349\n",
            "F1 score: 0.09803921568627451\n",
            "Recall: 0.05319148936170213\n",
            "Precision: 0.625\n",
            "\n",
            " confussion matrix:\n",
            " [[155   3]\n",
            " [ 89   5]]\n"
          ]
        }
      ]
    },
    {
      "cell_type": "code",
      "source": [
        "# Cuarto Modelo - KNN\n",
        "model4 = KNeighborsClassifier(n_neighbors=9, n_jobs=-1)\n",
        "model4.fit(X_train, y_train)\n",
        "y_pred = model4.predict(X_test)\n",
        "y_pred_train = model4.predict(X_train)"
      ],
      "metadata": {
        "id": "m0mdgbV1r2Jv"
      },
      "execution_count": 131,
      "outputs": []
    },
    {
      "cell_type": "code",
      "source": [
        "ac = accuracy_score(y_test, y_pred)\n",
        "acc.append(ac)\n",
        "ac_train = accuracy_score(y_train, y_pred_train)\n",
        "rc = roc_auc_score(y_test, y_pred)\n",
        "roc.append(rc)\n",
        "print(\"****************************************************\")\n",
        "print(\"K-Nearest Neighbors : \")\n",
        "print (\"Accuracy:\", accuracy_score(y_test, y_pred))\n",
        "print (\"F1 score:\", f1_score(y_test, y_pred))\n",
        "print (\"Recall:\", recall_score(y_test, y_pred))\n",
        "print (\"Precision:\", precision_score(y_test, y_pred))\n",
        "print (\"\\n confussion matrix:\\n\",confusion_matrix(y_test, y_pred))"
      ],
      "metadata": {
        "colab": {
          "base_uri": "https://localhost:8080/"
        },
        "id": "1YvTVENwr6rJ",
        "outputId": "a4e9ff56-621d-4f3f-9f95-d389188441a7"
      },
      "execution_count": 132,
      "outputs": [
        {
          "output_type": "stream",
          "name": "stdout",
          "text": [
            "****************************************************\n",
            "K-Nearest Neighbors : \n",
            "Accuracy: 0.6349206349206349\n",
            "F1 score: 0.09803921568627451\n",
            "Recall: 0.05319148936170213\n",
            "Precision: 0.625\n",
            "\n",
            " confussion matrix:\n",
            " [[155   3]\n",
            " [ 89   5]]\n"
          ]
        }
      ]
    },
    {
      "cell_type": "code",
      "source": [
        "model5 = RandomForestClassifier(n_estimators=20, max_depth=10)\n",
        "model5.fit(X_train, y_train)\n",
        "y_pred = model5.predict(X_test)\n",
        "y_pred_train = model5.predict(X_train)"
      ],
      "metadata": {
        "id": "Qq6krBXYsDwb"
      },
      "execution_count": 133,
      "outputs": []
    },
    {
      "cell_type": "code",
      "source": [
        "ac = accuracy_score(y_test, y_pred)\n",
        "acc.append(ac)\n",
        "ac_train = accuracy_score(y_train, y_pred_train)\n",
        "rc = roc_auc_score(y_test, y_pred)\n",
        "roc.append(rc)\n",
        "print(\"****************************************************\")\n",
        "print(\"Random Forest : \")\n",
        "print (\"Accuracy:\", accuracy_score(y_test, y_pred))\n",
        "print (\"F1 score:\", f1_score(y_test, y_pred))\n",
        "print (\"Recall:\", recall_score(y_test, y_pred))\n",
        "print (\"Precision:\", precision_score(y_test, y_pred))\n",
        "print (\"\\n confussion matrix:\\n\",confusion_matrix(y_test, y_pred))"
      ],
      "metadata": {
        "colab": {
          "base_uri": "https://localhost:8080/"
        },
        "id": "4f9xBy7nsGCE",
        "outputId": "884918f6-c3c0-4297-cf57-a64a50519910"
      },
      "execution_count": 134,
      "outputs": [
        {
          "output_type": "stream",
          "name": "stdout",
          "text": [
            "****************************************************\n",
            "Random Forest : \n",
            "Accuracy: 0.6349206349206349\n",
            "F1 score: 0.09803921568627451\n",
            "Recall: 0.05319148936170213\n",
            "Precision: 0.625\n",
            "\n",
            " confussion matrix:\n",
            " [[155   3]\n",
            " [ 89   5]]\n"
          ]
        }
      ]
    },
    {
      "cell_type": "code",
      "source": [
        "# Sexto Modelo - Árboles de decisión\n",
        "model6 = DecisionTreeClassifier(criterion = 'entropy', random_state=0)\n",
        "model6.fit(X_train,y_train)"
      ],
      "metadata": {
        "colab": {
          "base_uri": "https://localhost:8080/",
          "height": 74
        },
        "id": "pxaFwS3YsLES",
        "outputId": "e3762823-27ef-430e-8b10-c36d630266c9"
      },
      "execution_count": 135,
      "outputs": [
        {
          "output_type": "execute_result",
          "data": {
            "text/plain": [
              "DecisionTreeClassifier(criterion='entropy', random_state=0)"
            ],
            "text/html": [
              "<style>#sk-container-id-1 {color: black;background-color: white;}#sk-container-id-1 pre{padding: 0;}#sk-container-id-1 div.sk-toggleable {background-color: white;}#sk-container-id-1 label.sk-toggleable__label {cursor: pointer;display: block;width: 100%;margin-bottom: 0;padding: 0.3em;box-sizing: border-box;text-align: center;}#sk-container-id-1 label.sk-toggleable__label-arrow:before {content: \"▸\";float: left;margin-right: 0.25em;color: #696969;}#sk-container-id-1 label.sk-toggleable__label-arrow:hover:before {color: black;}#sk-container-id-1 div.sk-estimator:hover label.sk-toggleable__label-arrow:before {color: black;}#sk-container-id-1 div.sk-toggleable__content {max-height: 0;max-width: 0;overflow: hidden;text-align: left;background-color: #f0f8ff;}#sk-container-id-1 div.sk-toggleable__content pre {margin: 0.2em;color: black;border-radius: 0.25em;background-color: #f0f8ff;}#sk-container-id-1 input.sk-toggleable__control:checked~div.sk-toggleable__content {max-height: 200px;max-width: 100%;overflow: auto;}#sk-container-id-1 input.sk-toggleable__control:checked~label.sk-toggleable__label-arrow:before {content: \"▾\";}#sk-container-id-1 div.sk-estimator input.sk-toggleable__control:checked~label.sk-toggleable__label {background-color: #d4ebff;}#sk-container-id-1 div.sk-label input.sk-toggleable__control:checked~label.sk-toggleable__label {background-color: #d4ebff;}#sk-container-id-1 input.sk-hidden--visually {border: 0;clip: rect(1px 1px 1px 1px);clip: rect(1px, 1px, 1px, 1px);height: 1px;margin: -1px;overflow: hidden;padding: 0;position: absolute;width: 1px;}#sk-container-id-1 div.sk-estimator {font-family: monospace;background-color: #f0f8ff;border: 1px dotted black;border-radius: 0.25em;box-sizing: border-box;margin-bottom: 0.5em;}#sk-container-id-1 div.sk-estimator:hover {background-color: #d4ebff;}#sk-container-id-1 div.sk-parallel-item::after {content: \"\";width: 100%;border-bottom: 1px solid gray;flex-grow: 1;}#sk-container-id-1 div.sk-label:hover label.sk-toggleable__label {background-color: #d4ebff;}#sk-container-id-1 div.sk-serial::before {content: \"\";position: absolute;border-left: 1px solid gray;box-sizing: border-box;top: 0;bottom: 0;left: 50%;z-index: 0;}#sk-container-id-1 div.sk-serial {display: flex;flex-direction: column;align-items: center;background-color: white;padding-right: 0.2em;padding-left: 0.2em;position: relative;}#sk-container-id-1 div.sk-item {position: relative;z-index: 1;}#sk-container-id-1 div.sk-parallel {display: flex;align-items: stretch;justify-content: center;background-color: white;position: relative;}#sk-container-id-1 div.sk-item::before, #sk-container-id-1 div.sk-parallel-item::before {content: \"\";position: absolute;border-left: 1px solid gray;box-sizing: border-box;top: 0;bottom: 0;left: 50%;z-index: -1;}#sk-container-id-1 div.sk-parallel-item {display: flex;flex-direction: column;z-index: 1;position: relative;background-color: white;}#sk-container-id-1 div.sk-parallel-item:first-child::after {align-self: flex-end;width: 50%;}#sk-container-id-1 div.sk-parallel-item:last-child::after {align-self: flex-start;width: 50%;}#sk-container-id-1 div.sk-parallel-item:only-child::after {width: 0;}#sk-container-id-1 div.sk-dashed-wrapped {border: 1px dashed gray;margin: 0 0.4em 0.5em 0.4em;box-sizing: border-box;padding-bottom: 0.4em;background-color: white;}#sk-container-id-1 div.sk-label label {font-family: monospace;font-weight: bold;display: inline-block;line-height: 1.2em;}#sk-container-id-1 div.sk-label-container {text-align: center;}#sk-container-id-1 div.sk-container {/* jupyter's `normalize.less` sets `[hidden] { display: none; }` but bootstrap.min.css set `[hidden] { display: none !important; }` so we also need the `!important` here to be able to override the default hidden behavior on the sphinx rendered scikit-learn.org. See: https://github.com/scikit-learn/scikit-learn/issues/21755 */display: inline-block !important;position: relative;}#sk-container-id-1 div.sk-text-repr-fallback {display: none;}</style><div id=\"sk-container-id-1\" class=\"sk-top-container\"><div class=\"sk-text-repr-fallback\"><pre>DecisionTreeClassifier(criterion=&#x27;entropy&#x27;, random_state=0)</pre><b>In a Jupyter environment, please rerun this cell to show the HTML representation or trust the notebook. <br />On GitHub, the HTML representation is unable to render, please try loading this page with nbviewer.org.</b></div><div class=\"sk-container\" hidden><div class=\"sk-item\"><div class=\"sk-estimator sk-toggleable\"><input class=\"sk-toggleable__control sk-hidden--visually\" id=\"sk-estimator-id-1\" type=\"checkbox\" checked><label for=\"sk-estimator-id-1\" class=\"sk-toggleable__label sk-toggleable__label-arrow\">DecisionTreeClassifier</label><div class=\"sk-toggleable__content\"><pre>DecisionTreeClassifier(criterion=&#x27;entropy&#x27;, random_state=0)</pre></div></div></div></div></div>"
            ]
          },
          "metadata": {},
          "execution_count": 135
        }
      ]
    },
    {
      "cell_type": "markdown",
      "source": [],
      "metadata": {
        "id": "TWl4kGZXGx7h"
      }
    },
    {
      "cell_type": "code",
      "source": [
        "ac = accuracy_score(y_test, y_pred)\n",
        "acc.append(ac)\n",
        "ac_train = accuracy_score(y_train, y_pred_train)\n",
        "rc = roc_auc_score(y_test, y_pred)\n",
        "roc.append(rc)\n",
        "print(\"****************************************************\")\n",
        "print(\"Decision Tree : \")\n",
        "print (\"Accuracy:\", accuracy_score(y_test, y_pred))\n",
        "print (\"F1 score:\", f1_score(y_test, y_pred))\n",
        "print (\"Recall:\", recall_score(y_test, y_pred))\n",
        "print (\"Precision:\", precision_score(y_test, y_pred))\n",
        "print (\"\\n confussion matrix:\\n\",confusion_matrix(y_test, y_pred))"
      ],
      "metadata": {
        "colab": {
          "base_uri": "https://localhost:8080/"
        },
        "id": "w4t6lAbYsw2l",
        "outputId": "cbcfe65f-ec1a-4902-bd65-6a3c7f0a02fa"
      },
      "execution_count": 136,
      "outputs": [
        {
          "output_type": "stream",
          "name": "stdout",
          "text": [
            "****************************************************\n",
            "Decision Tree : \n",
            "Accuracy: 0.6349206349206349\n",
            "F1 score: 0.09803921568627451\n",
            "Recall: 0.05319148936170213\n",
            "Precision: 0.625\n",
            "\n",
            " confussion matrix:\n",
            " [[155   3]\n",
            " [ 89   5]]\n"
          ]
        }
      ]
    },
    {
      "cell_type": "markdown",
      "source": [
        "![WhatsApp Image 2023-11-02 at 9.54.42 PM.jpeg](data:image/jpeg;base64,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)"
      ],
      "metadata": {
        "id": "i-1jAGuNG6Wz"
      }
    },
    {
      "cell_type": "markdown",
      "source": [
        "![WhatsApp Image 2023-11-02 at 9.55.22 PM.jpeg](data:image/jpeg;base64,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)"
      ],
      "metadata": {
        "id": "j0Wf72j6HFKw"
      }
    },
    {
      "cell_type": "markdown",
      "source": [
        "![WhatsApp Image 2023-11-02 at 9.55.31 PM.jpeg](data:image/jpeg;base64,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)"
      ],
      "metadata": {
        "id": "--SolItiHIeL"
      }
    }
  ],
  "metadata": {
    "colab": {
      "provenance": [],
      "authorship_tag": "ABX9TyOhtDXvtkuOGPrnsegIr6t2",
      "include_colab_link": true
    },
    "kernelspec": {
      "display_name": "Python 3",
      "name": "python3"
    },
    "language_info": {
      "name": "python"
    }
  },
  "nbformat": 4,
  "nbformat_minor": 0
}